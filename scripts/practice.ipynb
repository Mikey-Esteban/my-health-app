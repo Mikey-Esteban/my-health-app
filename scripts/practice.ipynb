{
 "cells": [
  {
   "cell_type": "code",
   "execution_count": 16,
   "id": "688037aa",
   "metadata": {},
   "outputs": [
    {
     "data": {
      "text/html": [
       "<div>\n",
       "<style scoped>\n",
       "    .dataframe tbody tr th:only-of-type {\n",
       "        vertical-align: middle;\n",
       "    }\n",
       "\n",
       "    .dataframe tbody tr th {\n",
       "        vertical-align: top;\n",
       "    }\n",
       "\n",
       "    .dataframe thead th {\n",
       "        text-align: right;\n",
       "    }\n",
       "</style>\n",
       "<table border=\"1\" class=\"dataframe\">\n",
       "  <thead>\n",
       "    <tr style=\"text-align: right;\">\n",
       "      <th></th>\n",
       "      <th>Date/Time</th>\n",
       "      <th>Active Energy (kcal)</th>\n",
       "      <th>Source</th>\n",
       "    </tr>\n",
       "  </thead>\n",
       "  <tbody>\n",
       "    <tr>\n",
       "      <th>0</th>\n",
       "      <td>2024-05-15 06:27:03</td>\n",
       "      <td>1.69</td>\n",
       "      <td>GymKit|Michael’s Apple Watch</td>\n",
       "    </tr>\n",
       "    <tr>\n",
       "      <th>1</th>\n",
       "      <td>2024-05-15 06:28:03</td>\n",
       "      <td>0.31</td>\n",
       "      <td>GymKit|Michael’s Apple Watch</td>\n",
       "    </tr>\n",
       "    <tr>\n",
       "      <th>2</th>\n",
       "      <td>2024-05-15 06:29:03</td>\n",
       "      <td>8.19</td>\n",
       "      <td>GymKit|Michael’s Apple Watch</td>\n",
       "    </tr>\n",
       "    <tr>\n",
       "      <th>3</th>\n",
       "      <td>2024-05-15 06:30:03</td>\n",
       "      <td>8.21</td>\n",
       "      <td>GymKit|Michael’s Apple Watch</td>\n",
       "    </tr>\n",
       "    <tr>\n",
       "      <th>4</th>\n",
       "      <td>2024-05-15 06:31:03</td>\n",
       "      <td>8.21</td>\n",
       "      <td>GymKit|Michael’s Apple Watch</td>\n",
       "    </tr>\n",
       "  </tbody>\n",
       "</table>\n",
       "</div>"
      ],
      "text/plain": [
       "             Date/Time  Active Energy (kcal)                        Source\n",
       "0  2024-05-15 06:27:03                  1.69  GymKit|Michael’s Apple Watch\n",
       "1  2024-05-15 06:28:03                  0.31  GymKit|Michael’s Apple Watch\n",
       "2  2024-05-15 06:29:03                  8.19  GymKit|Michael’s Apple Watch\n",
       "3  2024-05-15 06:30:03                  8.21  GymKit|Michael’s Apple Watch\n",
       "4  2024-05-15 06:31:03                  8.21  GymKit|Michael’s Apple Watch"
      ]
     },
     "execution_count": 16,
     "metadata": {},
     "output_type": "execute_result"
    }
   ],
   "source": [
    "import pandas as pd\n",
    "indoor_run_df = pd.read_csv('Indoor Run-Active Energy-20240515_062703.csv')\n",
    "indoor_run_df.head()"
   ]
  },
  {
   "cell_type": "code",
   "execution_count": 9,
   "id": "7d41b541",
   "metadata": {},
   "outputs": [
    {
     "name": "stdout",
     "output_type": "stream",
     "text": [
      "Date/Time\n",
      "Active Energy (kcal)\n",
      "Source\n"
     ]
    }
   ],
   "source": [
    "for col in df:\n",
    "    print(col)"
   ]
  },
  {
   "cell_type": "code",
   "execution_count": 17,
   "id": "38c19893",
   "metadata": {},
   "outputs": [],
   "source": [
    "data_time_series = indoor_run_df['Date/Time']\n",
    "energy_series = indoor_run_df['Active Energy (kcal)']\n",
    "source_series = indoor_run_df['Source']"
   ]
  },
  {
   "cell_type": "code",
   "execution_count": 18,
   "id": "2917250f",
   "metadata": {},
   "outputs": [
    {
     "data": {
      "text/plain": [
       "401.26000000000005"
      ]
     },
     "execution_count": 18,
     "metadata": {},
     "output_type": "execute_result"
    }
   ],
   "source": [
    "energy_series.sum()"
   ]
  },
  {
   "cell_type": "code",
   "execution_count": null,
   "id": "bc1801af",
   "metadata": {},
   "outputs": [],
   "source": []
  },
  {
   "cell_type": "code",
   "execution_count": null,
   "id": "ad8b1f9f",
   "metadata": {},
   "outputs": [],
   "source": []
  }
 ],
 "metadata": {
  "kernelspec": {
   "display_name": "Python 3 (ipykernel)",
   "language": "python",
   "name": "python3"
  },
  "language_info": {
   "codemirror_mode": {
    "name": "ipython",
    "version": 3
   },
   "file_extension": ".py",
   "mimetype": "text/x-python",
   "name": "python",
   "nbconvert_exporter": "python",
   "pygments_lexer": "ipython3",
   "version": "3.9.12"
  }
 },
 "nbformat": 4,
 "nbformat_minor": 5
}
